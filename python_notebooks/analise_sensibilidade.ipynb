{
 "cells": [
  {
   "cell_type": "code",
   "execution_count": 1,
   "id": "2d5ddedf",
   "metadata": {},
   "outputs": [],
   "source": [
    "# Bibliotecas\n",
    "import numpy as np\n",
    "import pandas as pd\n",
    "import matplotlib.pyplot as plt\n",
    "%matplotlib inline\n",
    "\n",
    "plt.rcParams.update({'font.family':'serif'})"
   ]
  },
  {
   "cell_type": "code",
   "execution_count": 2,
   "id": "c7601ffd",
   "metadata": {},
   "outputs": [],
   "source": [
    "# alpha\n",
    "alpha = np.arange(0.01, 0.999, 0.001)\n",
    "\n",
    "# termo alpha\n",
    "phi_alpha = np.abs((1.0-alpha)/(alpha*np.log(alpha)) + 1.0)\n",
    "gamma_alpha = np.abs((1.0-alpha)/(alpha*np.log(alpha)))\n",
    "zeta_alpha = gamma_alpha/phi_alpha"
   ]
  },
  {
   "cell_type": "code",
   "execution_count": 3,
   "id": "9178ea4d",
   "metadata": {},
   "outputs": [
    {
     "data": {
      "text/plain": [
       "Text(0.5, 0, '$\\\\mathbf{\\\\alpha}$')"
      ]
     },
     "execution_count": 3,
     "metadata": {},
     "output_type": "execute_result"
    },
    {
     "data": {
      "image/png": "[encoded data removed]",
      "text/plain": [
       "<Figure size 432x324 with 1 Axes>"
      ]
     },
     "metadata": {
      "needs_background": "light"
     },
     "output_type": "display_data"
    }
   ],
   "source": [
    "# plot\n",
    "fig, ax = plt.subplots(nrows=1, ncols=1, figsize=(6, 4.5))\n",
    "\n",
    "# parametros de fonte da letra\n",
    "font = {'family': 'serif',\n",
    "        'color':  'black',\n",
    "        'weight': 'normal',\n",
    "        'size': 11,\n",
    "        }\n",
    "\n",
    "# monta ticks\n",
    "y_major_ticks = np.arange(0, 10.5, 2)\n",
    "y_minor_ticks = np.arange(0, 10.5, 0.5)\n",
    "x_major_ticks = np.arange(0, 1.01, 0.2)\n",
    "x_minor_ticks = np.arange(0, 1.01, 0.05)\n",
    "\n",
    "# dados\n",
    "plt.plot(alpha, phi_alpha, linewidth=1, color='black')\n",
    "# plt.plot(alpha, gamma_alpha, linewidth=1, color='black')\n",
    "# ax.axhline(y = 0.0, color = 'k', linestyle = '--')\n",
    "\n",
    "# seta ticks\n",
    "ax.set_xticks(x_major_ticks)\n",
    "ax.set_xticks(x_minor_ticks, minor=True)\n",
    "ax.set_yticks(y_major_ticks)\n",
    "ax.set_yticks(y_minor_ticks, minor=True)\n",
    "\n",
    "# And a corresponding grid\n",
    "ax.grid(which='both')\n",
    "\n",
    "# cor ticks\n",
    "ax.grid(which='minor', alpha=0.2)\n",
    "ax.grid(which='major', alpha=0.5)\n",
    "\n",
    "# limites\n",
    "ax.set_ylim(0,10.5)\n",
    "ax.set_xlim(0,1.0)\n",
    "\n",
    "# nomes dos eixos\n",
    "ax.set_ylabel(r'Fator corretivo, $\\mathbf{\\Phi (\\alpha)}$', fontweight='bold', fontdict=font)\n",
    "# ax.set_ylabel(r'Fator corretivo, $\\mathbf{\\Gamma (\\alpha)}$', fontweight='bold', fontdict=font)\n",
    "# ax.set_ylabel('Fator corretivo', fontweight='bold', fontdict=font)\n",
    "ax.set_xlabel(r'$\\mathbf{\\alpha}$', fontweight='bold', fontdict=font)\n",
    "\n",
    "# legenda\n",
    "# plt.legend([r'$\\Phi (\\alpha)$', r'$\\Gamma (\\alpha)$'], loc='upper right', prop={'family': 'serif'})\n",
    "\n",
    "# salvar gráfico\n",
    "# plt.savefig('fator_r.png', bbox_inches='tight')\n",
    "# plt.savefig('fator_Mo_P.png', bbox_inches='tight')\n",
    "# plt.savefig('fator_todos.png', bbox_inches='tight')"
   ]
  },
  {
   "cell_type": "code",
   "execution_count": 4,
   "id": "91547f79",
   "metadata": {},
   "outputs": [
    {
     "data": {
      "image/png": "[encoded data removed]",
      "text/plain": [
       "<Figure size 432x324 with 1 Axes>"
      ]
     },
     "metadata": {
      "needs_background": "light"
     },
     "output_type": "display_data"
    }
   ],
   "source": [
    "# plot\n",
    "fig, ax = plt.subplots(nrows=1, ncols=1, figsize=(6, 4.5))\n",
    "\n",
    "# monta ticks\n",
    "y_major_ticks = np.arange(0, 10.5, 2)\n",
    "y_minor_ticks = np.arange(0, 10.5, 0.5)\n",
    "x_major_ticks = np.arange(0, 1.01, 0.2)\n",
    "x_minor_ticks = np.arange(0, 1.01, 0.05)\n",
    "\n",
    "# dados\n",
    "plt.plot(alpha, zeta_alpha, linewidth=1, color='black')\n",
    "\n",
    "# seta ticks\n",
    "ax.set_xticks(x_major_ticks)\n",
    "ax.set_xticks(x_minor_ticks, minor=True)\n",
    "ax.set_yticks(y_major_ticks)\n",
    "ax.set_yticks(y_minor_ticks, minor=True)\n",
    "\n",
    "# And a corresponding grid\n",
    "ax.grid(which='both')\n",
    "\n",
    "# cor ticks\n",
    "ax.grid(which='minor', alpha=0.2)\n",
    "ax.grid(which='major', alpha=0.5)\n",
    "\n",
    "# limites\n",
    "ax.set_ylim(0,10.5)\n",
    "ax.set_xlim(0,1.0)\n",
    "\n",
    "# nomes dos eixos\n",
    "# ax.set_ylabel(r'Fator corretivo, $\\Phi (\\alpha)$', fontweight='bold', fontdict=font)\n",
    "# ax.set_ylabel(r'Fator corretivo, $\\Gamma (\\alpha)$', fontweight='bold', fontdict=font)\n",
    "ax.set_ylabel(r'Razão de sensibilidade, R$\\mathbf{(\\alpha)}$', fontweight='bold', fontdict=font)\n",
    "ax.set_xlabel(r'$\\mathbf{\\alpha}$', fontweight='bold', fontdict=font)\n",
    "\n",
    "# salvar gráfico\n",
    "plt.savefig('razao_sensib.png', bbox_inches='tight')"
   ]
  },
  {
   "cell_type": "code",
   "execution_count": null,
   "id": "af297cde",
   "metadata": {},
   "outputs": [],
   "source": []
  },
  {
   "cell_type": "code",
   "execution_count": null,
   "id": "41cf1eaf",
   "metadata": {},
   "outputs": [],
   "source": []
  },
  {
   "cell_type": "code",
   "execution_count": null,
   "id": "34d6ba59",
   "metadata": {},
   "outputs": [],
   "source": []
  }
 ],
 "metadata": {
  "kernelspec": {
   "display_name": "Python 3 (ipykernel)",
   "language": "python",
   "name": "python3"
  },
  "language_info": {
   "codemirror_mode": {
    "name": "ipython",
    "version": 3
   },
   "file_extension": ".py",
   "mimetype": "text/x-python",
   "name": "python",
   "nbconvert_exporter": "python",
   "pygments_lexer": "ipython3",
   "version": "3.9.12"
  }
 },
 "nbformat": 4,
 "nbformat_minor": 5
}
